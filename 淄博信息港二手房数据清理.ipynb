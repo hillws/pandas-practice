{
 "cells": [
  {
   "cell_type": "markdown",
   "metadata": {},
   "source": [
    "### 导入必要的库，简单设置"
   ]
  },
  {
   "cell_type": "code",
   "execution_count": 4,
   "metadata": {
    "collapsed": false
   },
   "outputs": [],
   "source": [
    "import pandas as pd\n",
    "pd.options.display.max_columns=99\n",
    "import numpy as np\n",
    "import matplotlib.pyplot as plt\n",
    "import seaborn as sns\n",
    "sns.set(font='Microsoft YaHei Mono')\n",
    "%matplotlib inline\n",
    "import warnings\n",
    "warnings.filterwarnings('ignore')"
   ]
  },
  {
   "cell_type": "markdown",
   "metadata": {},
   "source": [
    "### 读取要处理的数据"
   ]
  },
  {
   "cell_type": "code",
   "execution_count": 5,
   "metadata": {
    "collapsed": false
   },
   "outputs": [
    {
     "data": {
      "text/html": [
       "<div>\n",
       "<table border=\"1\" class=\"dataframe\">\n",
       "  <thead>\n",
       "    <tr style=\"text-align: right;\">\n",
       "      <th></th>\n",
       "      <th>my_column_10</th>\n",
       "      <th>my_column_12</th>\n",
       "      <th>my_column_11</th>\n",
       "      <th>my_column_14</th>\n",
       "      <th>my_column</th>\n",
       "      <th>my_column_13</th>\n",
       "      <th>my_column_15</th>\n",
       "      <th>my_column_5</th>\n",
       "      <th>my_column_4</th>\n",
       "      <th>my_column_3</th>\n",
       "      <th>my_column_2</th>\n",
       "      <th>my_column_9</th>\n",
       "      <th>my_column_8</th>\n",
       "      <th>my_column_7</th>\n",
       "      <th>my_column_6</th>\n",
       "      <th>pageUrl</th>\n",
       "    </tr>\n",
       "  </thead>\n",
       "  <tbody>\n",
       "    <tr>\n",
       "      <th>0</th>\n",
       "      <td>朝向：南北</td>\n",
       "      <td>周边学校：</td>\n",
       "      <td>装修：毛坯</td>\n",
       "      <td>2015-11-06发布</td>\n",
       "      <td>张店区二手房</td>\n",
       "      <td>13561686777</td>\n",
       "      <td>室内设施：天然气,暖气,防盗门,阳台封闭 妇幼保健院新址不远，市总工会宿舍，惠泽苑小区，16...</td>\n",
       "      <td>户型：2室 2厅 1卫 楼层：4 /5</td>\n",
       "      <td>面积：120㎡ 车:15㎡</td>\n",
       "      <td>房主净得价 有营业税</td>\n",
       "      <td>￥51.00万元</td>\n",
       "      <td>建造年代：2010年</td>\n",
       "      <td>类型：住宅</td>\n",
       "      <td>地址：荷塘月色北邻，淄博市总工会后院</td>\n",
       "      <td>惠泽苑</td>\n",
       "      <td>http://house.zbinfo.net/sell_content.aspx?id=1...</td>\n",
       "    </tr>\n",
       "    <tr>\n",
       "      <th>1</th>\n",
       "      <td>朝向：南</td>\n",
       "      <td>周边学校：</td>\n",
       "      <td>装修：简装修</td>\n",
       "      <td>2015-05-22发布</td>\n",
       "      <td>张店区二手房</td>\n",
       "      <td>18653316022</td>\n",
       "      <td>室内设施：煤气,天然气,储藏室/地下室,防盗门,阳台封闭,家具,灶具 有购房合同可改 带有简...</td>\n",
       "      <td>户型：2室 1厅 1卫 楼层：4 /6</td>\n",
       "      <td>面积：73㎡ 储:6㎡</td>\n",
       "      <td>双方各自付税 有营业税</td>\n",
       "      <td>￥14.50万元</td>\n",
       "      <td>建造年代：2006年</td>\n",
       "      <td>类型：住宅</td>\n",
       "      <td>地址：高新技术开发区四宝山曹三村曹村创业园一号楼楼</td>\n",
       "      <td>曹村创业园一号楼 曹三村 急需用钱超低价出售中介勿扰</td>\n",
       "      <td>http://house.zbinfo.net/sell_content.aspx?id=1...</td>\n",
       "    </tr>\n",
       "    <tr>\n",
       "      <th>2</th>\n",
       "      <td>朝向：南</td>\n",
       "      <td>周边学校：</td>\n",
       "      <td>装修：简装修</td>\n",
       "      <td>2013-09-18发布</td>\n",
       "      <td>张店区二手房</td>\n",
       "      <td>18653316012</td>\n",
       "      <td>室内设施：天然气,暖气,储藏室/地下室,防盗门,阳台封闭,双人床,有线电视 楼房价格包括水，...</td>\n",
       "      <td>户型：2室 1厅 1卫 楼层：2 /6</td>\n",
       "      <td>面积：82㎡ 储:10㎡</td>\n",
       "      <td>房主净得价 无营业税</td>\n",
       "      <td>￥32.00万元</td>\n",
       "      <td>建造年代：2011年</td>\n",
       "      <td>类型：住宅</td>\n",
       "      <td>地址：西七路南首</td>\n",
       "      <td>南苑绿洲一区</td>\n",
       "      <td>http://house.zbinfo.net/sell_content.aspx?id=6...</td>\n",
       "    </tr>\n",
       "    <tr>\n",
       "      <th>3</th>\n",
       "      <td>朝向：南</td>\n",
       "      <td>周边学校：柳泉艺术学校，张店二中</td>\n",
       "      <td>装修：中等装修</td>\n",
       "      <td>2015-10-23发布</td>\n",
       "      <td>张店区二手房</td>\n",
       "      <td>18653389776</td>\n",
       "      <td>75平阳光精品户型：单元独户，一楼三室一厅带车库，8路、88路、127路公交出行顺达；步行5...</td>\n",
       "      <td>户型：3室 1厅 1卫 楼层：1 /6</td>\n",
       "      <td>面积：75㎡ 车:25㎡</td>\n",
       "      <td>房主净得价 有营业税</td>\n",
       "      <td>￥51.00万元</td>\n",
       "      <td>建造年代：2009年</td>\n",
       "      <td>类型：住宅</td>\n",
       "      <td>地址：东三路以东，东四路以西，潘南东路以北、华光路以南，</td>\n",
       "      <td>阳光馨园</td>\n",
       "      <td>http://house.zbinfo.net/sell_content.aspx?id=1...</td>\n",
       "    </tr>\n",
       "    <tr>\n",
       "      <th>4</th>\n",
       "      <td>朝向：东</td>\n",
       "      <td>周边学校：小学：祥瑞苑小学、初中：张店八中、高中：市实验中学</td>\n",
       "      <td>装修：毛坯</td>\n",
       "      <td>2016-01-06发布</td>\n",
       "      <td>张店区二手房</td>\n",
       "      <td>18605337755</td>\n",
       "      <td>室内设施：天然气,暖气,电梯,车位,储藏室/地下室,防盗门,阳台封闭</td>\n",
       "      <td>户型：3室 2厅 1卫 楼层：18 /22</td>\n",
       "      <td>面积：140㎡ 储:20㎡ 车:18㎡</td>\n",
       "      <td>房主净得价 无营业税</td>\n",
       "      <td>￥98.00万元</td>\n",
       "      <td>建造年代：2015年</td>\n",
       "      <td>类型：住宅</td>\n",
       "      <td>地址：西十路与新村路交叉口</td>\n",
       "      <td>张店齐悦国际，改合同（划片祥瑞苑小学、张店八中）</td>\n",
       "      <td>http://house.zbinfo.net/sell_content.aspx?id=1...</td>\n",
       "    </tr>\n",
       "  </tbody>\n",
       "</table>\n",
       "</div>"
      ],
      "text/plain": [
       "  my_column_10                    my_column_12 my_column_11  my_column_14  \\\n",
       "0        朝向：南北                           周边学校：        装修：毛坯  2015-11-06发布   \n",
       "1         朝向：南                           周边学校：       装修：简装修  2015-05-22发布   \n",
       "2         朝向：南                           周边学校：       装修：简装修  2013-09-18发布   \n",
       "3         朝向：南                周边学校：柳泉艺术学校，张店二中      装修：中等装修  2015-10-23发布   \n",
       "4         朝向：东  周边学校：小学：祥瑞苑小学、初中：张店八中、高中：市实验中学        装修：毛坯  2016-01-06发布   \n",
       "\n",
       "  my_column my_column_13                                       my_column_15  \\\n",
       "0    张店区二手房  13561686777  室内设施：天然气,暖气,防盗门,阳台封闭 妇幼保健院新址不远，市总工会宿舍，惠泽苑小区，16...   \n",
       "1    张店区二手房  18653316022  室内设施：煤气,天然气,储藏室/地下室,防盗门,阳台封闭,家具,灶具 有购房合同可改 带有简...   \n",
       "2    张店区二手房  18653316012  室内设施：天然气,暖气,储藏室/地下室,防盗门,阳台封闭,双人床,有线电视 楼房价格包括水，...   \n",
       "3    张店区二手房  18653389776  75平阳光精品户型：单元独户，一楼三室一厅带车库，8路、88路、127路公交出行顺达；步行5...   \n",
       "4    张店区二手房  18605337755                 室内设施：天然气,暖气,电梯,车位,储藏室/地下室,防盗门,阳台封闭   \n",
       "\n",
       "             my_column_5          my_column_4  my_column_3 my_column_2  \\\n",
       "0    户型：2室 2厅 1卫 楼层：4 /5        面积：120㎡ 车:15㎡   房主净得价 有营业税    ￥51.00万元   \n",
       "1    户型：2室 1厅 1卫 楼层：4 /6          面积：73㎡ 储:6㎡  双方各自付税 有营业税    ￥14.50万元   \n",
       "2    户型：2室 1厅 1卫 楼层：2 /6         面积：82㎡ 储:10㎡   房主净得价 无营业税    ￥32.00万元   \n",
       "3    户型：3室 1厅 1卫 楼层：1 /6         面积：75㎡ 车:25㎡   房主净得价 有营业税    ￥51.00万元   \n",
       "4  户型：3室 2厅 1卫 楼层：18 /22  面积：140㎡ 储:20㎡ 车:18㎡   房主净得价 无营业税    ￥98.00万元   \n",
       "\n",
       "  my_column_9 my_column_8                   my_column_7  \\\n",
       "0  建造年代：2010年       类型：住宅            地址：荷塘月色北邻，淄博市总工会后院   \n",
       "1  建造年代：2006年       类型：住宅     地址：高新技术开发区四宝山曹三村曹村创业园一号楼楼   \n",
       "2  建造年代：2011年       类型：住宅                      地址：西七路南首   \n",
       "3  建造年代：2009年       类型：住宅  地址：东三路以东，东四路以西，潘南东路以北、华光路以南，   \n",
       "4  建造年代：2015年       类型：住宅                 地址：西十路与新村路交叉口   \n",
       "\n",
       "                  my_column_6  \\\n",
       "0                         惠泽苑   \n",
       "1  曹村创业园一号楼 曹三村 急需用钱超低价出售中介勿扰   \n",
       "2                      南苑绿洲一区   \n",
       "3                        阳光馨园   \n",
       "4    张店齐悦国际，改合同（划片祥瑞苑小学、张店八中）   \n",
       "\n",
       "                                             pageUrl  \n",
       "0  http://house.zbinfo.net/sell_content.aspx?id=1...  \n",
       "1  http://house.zbinfo.net/sell_content.aspx?id=1...  \n",
       "2  http://house.zbinfo.net/sell_content.aspx?id=6...  \n",
       "3  http://house.zbinfo.net/sell_content.aspx?id=1...  \n",
       "4  http://house.zbinfo.net/sell_content.aspx?id=1...  "
      ]
     },
     "execution_count": 5,
     "metadata": {},
     "output_type": "execute_result"
    }
   ],
   "source": [
    "df = pd.read_csv('淄博信息港二手房详情20160110.csv')\n",
    "df.head()"
   ]
  },
  {
   "cell_type": "markdown",
   "metadata": {},
   "source": [
    "### 原始数据需要处理的问题\n",
    "- 部分列存储了多列信息\n",
    "    比如my_column_5列中的一个数据：户型：3室 2厅 1卫 楼层：18 /22，我们希望处理成：\n",
    "   \n",
    "| 室 | 厅 | 卫 | 所在层 | 总楼层 |\n",
    "| :-: | :-: | :-: | :-: | :-: |\n",
    "| 3 | 2 | 1 | 18 | 22 |\n",
    "\n",
    "- 大部分列包含了不需要的字符：~~朝向：~~东、~~装修：~~毛坯……\n",
    "- 处理完成之后需要做格式转换，发布时间应该是日期，价格、面积、室厅卫数量应该是数值……\n",
    "- 需要计算出一些辅助信息，比如说根据建造年代生成房龄。"
   ]
  },
  {
   "cell_type": "markdown",
   "metadata": {},
   "source": [
    "#### 由简至繁，先处理只需要剔除冗余字符的列。"
   ]
  },
  {
   "cell_type": "code",
   "execution_count": 6,
   "metadata": {
    "collapsed": false
   },
   "outputs": [],
   "source": [
    "new_df=pd.DataFrame(index=df.index)"
   ]
  },
  {
   "cell_type": "code",
   "execution_count": 7,
   "metadata": {
    "collapsed": false
   },
   "outputs": [
    {
     "data": {
      "text/plain": [
       "张店区    19437\n",
       "临淄区      404\n",
       "博山区      108\n",
       "淄川区       85\n",
       "周村区       64\n",
       "桓台县       48\n",
       "高青县       11\n",
       "沂源县        2\n",
       "           1\n",
       "Name: 区县, dtype: int64"
      ]
     },
     "execution_count": 7,
     "metadata": {},
     "output_type": "execute_result"
    }
   ],
   "source": [
    "new_df[\"区县\"]= df['my_column'].str.replace(\"二手房\",\"\")\n",
    "new_df[\"区县\"].value_counts()"
   ]
  },
  {
   "cell_type": "markdown",
   "metadata": {},
   "source": [
    "*貌似只有张店人在用淄博信息港。*"
   ]
  },
  {
   "cell_type": "code",
   "execution_count": 8,
   "metadata": {
    "collapsed": false
   },
   "outputs": [
    {
     "data": {
      "text/plain": [
       "(世纪花园       1072\n",
       " 黄金国际        905\n",
       " 龙泰苑世嘉       537\n",
       " 江南豪庭        536\n",
       " 中润华侨城南区     520\n",
       " Name: 小区, dtype: int64, 张店区中德亚运村         1\n",
       " 江南豪庭二期           1\n",
       " 联通路金花村财政局宿舍小区    1\n",
       " 财富陶瓷城            1\n",
       " 华菁园小区            1\n",
       " Name: 小区, dtype: int64)"
      ]
     },
     "execution_count": 8,
     "metadata": {},
     "output_type": "execute_result"
    }
   ],
   "source": [
    "new_df[\"小区\"]= df['my_column_6']\n",
    "new_df[\"小区\"].value_counts().head(),new_df[\"小区\"].value_counts().tail()"
   ]
  },
  {
   "cell_type": "markdown",
   "metadata": {},
   "source": [
    "*小区名称还需要整理，为了简化，可以舍弃名称不对的数据*"
   ]
  },
  {
   "cell_type": "code",
   "execution_count": 9,
   "metadata": {
    "collapsed": false
   },
   "outputs": [
    {
     "data": {
      "text/plain": [
       "住宅      19841\n",
       "商铺        151\n",
       "写字楼        82\n",
       "别墅         49\n",
       "车库         15\n",
       "海景房        11\n",
       "厂房仓库       11\n",
       "Name: 类型, dtype: int64"
      ]
     },
     "execution_count": 9,
     "metadata": {},
     "output_type": "execute_result"
    }
   ],
   "source": [
    "new_df[\"类型\"]= df['my_column_8'].str.replace(\"类型：\",\"\")\n",
    "new_df[\"类型\"].value_counts()"
   ]
  },
  {
   "cell_type": "code",
   "execution_count": 10,
   "metadata": {
    "collapsed": false
   },
   "outputs": [
    {
     "data": {
      "text/plain": [
       "2010    3810\n",
       "2008    2080\n",
       "2009    1553\n",
       "2006    1400\n",
       "2007    1310\n",
       "2005    1245\n",
       "2012    1177\n",
       "2011     848\n",
       "2004     827\n",
       "2000     806\n",
       "2013     666\n",
       "2015     646\n",
       "0        504\n",
       "1998     482\n",
       "2003     418\n",
       "1999     357\n",
       "2002     327\n",
       "2014     298\n",
       "1995     216\n",
       "2001     183\n",
       "1996     168\n",
       "1997     168\n",
       "1994     127\n",
       "1993     120\n",
       "1990      90\n",
       "1992      48\n",
       "1989      48\n",
       "2016      39\n",
       "1988      33\n",
       "1987      33\n",
       "1986      26\n",
       "1991      26\n",
       "1985      25\n",
       "1984      15\n",
       "1983      13\n",
       "1982      11\n",
       "1980      10\n",
       "1981       2\n",
       "90         1\n",
       "1977       1\n",
       "2017       1\n",
       "1512       1\n",
       "1000       1\n",
       "Name: 建造年代, dtype: int64"
      ]
     },
     "execution_count": 10,
     "metadata": {},
     "output_type": "execute_result"
    }
   ],
   "source": [
    "new_df[\"建造年代\"]= df['my_column_9'].str.replace(\"建造年代：\",\"\").str.replace(\"年\",\"\")\n",
    "new_df[\"建造年代\"].value_counts()"
   ]
  },
  {
   "cell_type": "markdown",
   "metadata": {},
   "source": [
    "*2010年是盖房子高潮？*"
   ]
  },
  {
   "cell_type": "code",
   "execution_count": 11,
   "metadata": {
    "collapsed": false
   },
   "outputs": [
    {
     "data": {
      "text/plain": [
       "精装修     6553\n",
       "毛坯      5900\n",
       "简装修     5608\n",
       "中等装修    1179\n",
       "豪华装修     893\n",
       "原房        23\n",
       "一般装修       2\n",
       "毛坯房        1\n",
       "           1\n",
       "Name: 装修, dtype: int64"
      ]
     },
     "execution_count": 11,
     "metadata": {},
     "output_type": "execute_result"
    }
   ],
   "source": [
    "new_df[\"装修\"]= df['my_column_11'].str.replace(\"装修：\",\"\")\n",
    "new_df[\"装修\"].value_counts()"
   ]
  },
  {
   "cell_type": "code",
   "execution_count": 12,
   "metadata": {
    "collapsed": false
   },
   "outputs": [
    {
     "data": {
      "text/plain": [
       "南     13246\n",
       "南北     3390\n",
       "东      3247\n",
       "北       100\n",
       "西        58\n",
       "         58\n",
       "东西       38\n",
       "东南       13\n",
       "西北        6\n",
       "西南        3\n",
       "东北        1\n",
       "Name: 朝向, dtype: int64"
      ]
     },
     "execution_count": 12,
     "metadata": {},
     "output_type": "execute_result"
    }
   ],
   "source": [
    "new_df[\"朝向\"]= df['my_column_10'].str.replace(\"朝向：\",\"\")\n",
    "new_df[\"朝向\"].value_counts()"
   ]
  },
  {
   "cell_type": "markdown",
   "metadata": {},
   "source": [
    "*南北和南有什么区别？东西和东有什么区别？*"
   ]
  },
  {
   "cell_type": "code",
   "execution_count": 13,
   "metadata": {
    "collapsed": false
   },
   "outputs": [
    {
     "data": {
      "text/plain": [
       "2016-01-07    811\n",
       "2016-01-10    727\n",
       "2016-01-09    620\n",
       "2015-12-29    586\n",
       "2016-01-08    583\n",
       "2016-01-05    574\n",
       "2016-01-03    547\n",
       "2016-01-06    540\n",
       "2016-01-02    493\n",
       "2016-01-04    490\n",
       "2015-12-28    431\n",
       "2015-12-24    410\n",
       "2015-12-27    382\n",
       "2015-12-25    372\n",
       "2015-12-26    371\n",
       "2015-12-30    364\n",
       "2016-01-01    268\n",
       "2015-12-31    264\n",
       "2015-12-13    252\n",
       "2015-12-23    249\n",
       "2015-12-22    223\n",
       "2015-12-19    220\n",
       "2015-12-20    212\n",
       "2015-12-09    199\n",
       "2015-12-12    193\n",
       "2015-12-11    191\n",
       "2015-12-15    190\n",
       "2015-12-21    184\n",
       "2015-12-14    183\n",
       "2015-11-09    179\n",
       "             ... \n",
       "2012-07-02      1\n",
       "2014-10-09      1\n",
       "2015-02-04      1\n",
       "2015-05-16      1\n",
       "2013-12-10      1\n",
       "2013-10-04      1\n",
       "2015-01-23      1\n",
       "2013-05-28      1\n",
       "2014-07-13      1\n",
       "2013-12-19      1\n",
       "2011-11-30      1\n",
       "2014-11-09      1\n",
       "2015-05-04      1\n",
       "2013-05-01      1\n",
       "2015-03-24      1\n",
       "2013-08-22      1\n",
       "2013-07-05      1\n",
       "2014-04-26      1\n",
       "2014-04-16      1\n",
       "2015-02-26      1\n",
       "2012-06-19      1\n",
       "2015-05-03      1\n",
       "2013-06-17      1\n",
       "2014-02-21      1\n",
       "2015-03-11      1\n",
       "2014-11-30      1\n",
       "2012-12-27      1\n",
       "2013-06-30      1\n",
       "2013-04-18      1\n",
       "2014-07-15      1\n",
       "Name: 发布时间, dtype: int64"
      ]
     },
     "execution_count": 13,
     "metadata": {},
     "output_type": "execute_result"
    }
   ],
   "source": [
    "new_df[\"发布时间\"]=pd.to_datetime(df['my_column_14'].str.replace(\"发布\",\"\"),format='%Y-%m-%d')\n",
    "new_df[\"发布时间\"].value_counts()"
   ]
  },
  {
   "cell_type": "code",
   "execution_count": 14,
   "metadata": {
    "collapsed": false
   },
   "outputs": [
    {
     "data": {
      "text/plain": [
       "85.00     503\n",
       "75.00     485\n",
       "95.00     391\n",
       "65.00     380\n",
       "55.00     372\n",
       "110.00    343\n",
       "58.00     341\n",
       "76.00     334\n",
       "105.00    330\n",
       "90.00     327\n",
       "63.00     315\n",
       "88.00     311\n",
       "60.00     306\n",
       "82.00     297\n",
       "70.00     292\n",
       "78.00     291\n",
       "115.00    278\n",
       "100.00    272\n",
       "66.00     257\n",
       "80.00     256\n",
       "92.00     256\n",
       "50.00     255\n",
       "72.00     242\n",
       "53.00     237\n",
       "93.00     233\n",
       "68.00     231\n",
       "56.00     226\n",
       "108.00    219\n",
       "73.00     217\n",
       "62.00     208\n",
       "         ... \n",
       "61.60       1\n",
       "18.70       1\n",
       "6.60        1\n",
       "44.30       1\n",
       "103.40      1\n",
       "138.80      1\n",
       "228.00      1\n",
       "95.90       1\n",
       "240.24      1\n",
       "167.00      1\n",
       "251.00      1\n",
       "164.00      1\n",
       "135.30      1\n",
       "312.00      1\n",
       "161.00      1\n",
       "329.00      1\n",
       "29.99       1\n",
       "6.80        1\n",
       "1.80        1\n",
       "9.80        1\n",
       "10.80       1\n",
       "153.00      1\n",
       "15.80       1\n",
       "21.80       1\n",
       "30.30       1\n",
       "31.80       1\n",
       "86.90       1\n",
       "89.90       1\n",
       "91.90       1\n",
       "0.50        1\n",
       "Name: 价格, dtype: int64"
      ]
     },
     "execution_count": 14,
     "metadata": {},
     "output_type": "execute_result"
    }
   ],
   "source": [
    "new_df[\"价格\"]= pd.to_numeric(df['my_column_2'].str.replace(\"￥\",\"\").str.replace(\"万元\",\"\"),errors='coerce')\n",
    "new_df[\"价格\"].value_counts() "
   ]
  },
  {
   "cell_type": "code",
   "execution_count": 15,
   "metadata": {
    "collapsed": false
   },
   "outputs": [
    {
     "data": {
      "text/plain": [
       "58"
      ]
     },
     "execution_count": 15,
     "metadata": {},
     "output_type": "execute_result"
    }
   ],
   "source": [
    "len(new_df[new_df['价格'].isnull()])"
   ]
  },
  {
   "cell_type": "markdown",
   "metadata": {},
   "source": [
    "#### 接下来处理稍微复杂些的，需要拆分的列"
   ]
  },
  {
   "cell_type": "markdown",
   "metadata": {},
   "source": [
    "**面积** \n",
    "- 面积：120㎡ 车:15㎡\n",
    "- 面积：130㎡ 储:17㎡\n",
    "- ……"
   ]
  },
  {
   "cell_type": "code",
   "execution_count": 16,
   "metadata": {
    "collapsed": false
   },
   "outputs": [
    {
     "data": {
      "text/plain": [
       "('120', '130')"
      ]
     },
     "execution_count": 16,
     "metadata": {},
     "output_type": "execute_result"
    }
   ],
   "source": [
    "s1=\"面积：120㎡ 车:15㎡\"\n",
    "s2=\"面积：130㎡ 储:17㎡\"\n",
    "\n",
    "def deal_str(s,k):\n",
    "    d={\"面积\":np.nan,\"车\":np.nan,\"储\":np.nan}\n",
    "    if type(s)==type(\"\"):# pandas 中的Nan值是flaot类型的，如果出现缺失值，当成字符处理就会出错。\n",
    "        s=s.replace(\"㎡\",\"\").replace(\"：\",\":\")\n",
    "        l=s.split(\" \")\n",
    "        for i in l:\n",
    "            tmpl=i.split(\":\")\n",
    "            d[tmpl[0]]=tmpl[1]\n",
    "    return d[k]\n",
    "\n",
    "def get_area(s):\n",
    "    return deal_str(s,k=\"面积\")\n",
    "def get_car(s):\n",
    "    return deal_str(s,k=\"车\")\n",
    "def get_store(s):\n",
    "    return deal_str(s,k=\"储\")\n",
    "    \n",
    "        \n",
    "get_area(s1),get_area(s2)"
   ]
  },
  {
   "cell_type": "code",
   "execution_count": 17,
   "metadata": {
    "collapsed": false
   },
   "outputs": [
    {
     "data": {
      "text/html": [
       "<div>\n",
       "<table border=\"1\" class=\"dataframe\">\n",
       "  <thead>\n",
       "    <tr style=\"text-align: right;\">\n",
       "      <th></th>\n",
       "      <th>区县</th>\n",
       "      <th>小区</th>\n",
       "      <th>类型</th>\n",
       "      <th>建造年代</th>\n",
       "      <th>装修</th>\n",
       "      <th>朝向</th>\n",
       "      <th>发布时间</th>\n",
       "      <th>价格</th>\n",
       "      <th>面积</th>\n",
       "      <th>车库</th>\n",
       "      <th>储藏室</th>\n",
       "    </tr>\n",
       "  </thead>\n",
       "  <tbody>\n",
       "    <tr>\n",
       "      <th>0</th>\n",
       "      <td>张店区</td>\n",
       "      <td>惠泽苑</td>\n",
       "      <td>住宅</td>\n",
       "      <td>2010</td>\n",
       "      <td>毛坯</td>\n",
       "      <td>南北</td>\n",
       "      <td>2015-11-06</td>\n",
       "      <td>51.0</td>\n",
       "      <td>120</td>\n",
       "      <td>15</td>\n",
       "      <td>NaN</td>\n",
       "    </tr>\n",
       "    <tr>\n",
       "      <th>1</th>\n",
       "      <td>张店区</td>\n",
       "      <td>曹村创业园一号楼 曹三村 急需用钱超低价出售中介勿扰</td>\n",
       "      <td>住宅</td>\n",
       "      <td>2006</td>\n",
       "      <td>简装修</td>\n",
       "      <td>南</td>\n",
       "      <td>2015-05-22</td>\n",
       "      <td>14.5</td>\n",
       "      <td>73</td>\n",
       "      <td>NaN</td>\n",
       "      <td>6</td>\n",
       "    </tr>\n",
       "    <tr>\n",
       "      <th>2</th>\n",
       "      <td>张店区</td>\n",
       "      <td>南苑绿洲一区</td>\n",
       "      <td>住宅</td>\n",
       "      <td>2011</td>\n",
       "      <td>简装修</td>\n",
       "      <td>南</td>\n",
       "      <td>2013-09-18</td>\n",
       "      <td>32.0</td>\n",
       "      <td>82</td>\n",
       "      <td>NaN</td>\n",
       "      <td>10</td>\n",
       "    </tr>\n",
       "    <tr>\n",
       "      <th>3</th>\n",
       "      <td>张店区</td>\n",
       "      <td>阳光馨园</td>\n",
       "      <td>住宅</td>\n",
       "      <td>2009</td>\n",
       "      <td>中等装修</td>\n",
       "      <td>南</td>\n",
       "      <td>2015-10-23</td>\n",
       "      <td>51.0</td>\n",
       "      <td>75</td>\n",
       "      <td>25</td>\n",
       "      <td>NaN</td>\n",
       "    </tr>\n",
       "    <tr>\n",
       "      <th>4</th>\n",
       "      <td>张店区</td>\n",
       "      <td>张店齐悦国际，改合同（划片祥瑞苑小学、张店八中）</td>\n",
       "      <td>住宅</td>\n",
       "      <td>2015</td>\n",
       "      <td>毛坯</td>\n",
       "      <td>东</td>\n",
       "      <td>2016-01-06</td>\n",
       "      <td>98.0</td>\n",
       "      <td>140</td>\n",
       "      <td>18</td>\n",
       "      <td>20</td>\n",
       "    </tr>\n",
       "  </tbody>\n",
       "</table>\n",
       "</div>"
      ],
      "text/plain": [
       "    区县                          小区  类型  建造年代    装修  朝向       发布时间    价格   面积  \\\n",
       "0  张店区                         惠泽苑  住宅  2010    毛坯  南北 2015-11-06  51.0  120   \n",
       "1  张店区  曹村创业园一号楼 曹三村 急需用钱超低价出售中介勿扰  住宅  2006   简装修   南 2015-05-22  14.5   73   \n",
       "2  张店区                      南苑绿洲一区  住宅  2011   简装修   南 2013-09-18  32.0   82   \n",
       "3  张店区                        阳光馨园  住宅  2009  中等装修   南 2015-10-23  51.0   75   \n",
       "4  张店区    张店齐悦国际，改合同（划片祥瑞苑小学、张店八中）  住宅  2015    毛坯   东 2016-01-06  98.0  140   \n",
       "\n",
       "    车库  储藏室  \n",
       "0   15  NaN  \n",
       "1  NaN    6  \n",
       "2  NaN   10  \n",
       "3   25  NaN  \n",
       "4   18   20  "
      ]
     },
     "execution_count": 17,
     "metadata": {},
     "output_type": "execute_result"
    }
   ],
   "source": [
    "new_df[\"面积\"]=df[\"my_column_4\"].map(get_area)\n",
    "new_df[\"车库\"]=df[\"my_column_4\"].map(get_car)\n",
    "new_df[\"储藏室\"]=df[\"my_column_4\"].map(get_store)\n",
    "new_df.head()"
   ]
  },
  {
   "cell_type": "markdown",
   "metadata": {},
   "source": [
    "**户型和楼层** \n",
    "- 户型：2室 2厅 1卫 楼层：4 /5 \n",
    "- ……"
   ]
  },
  {
   "cell_type": "code",
   "execution_count": 18,
   "metadata": {
    "collapsed": true
   },
   "outputs": [],
   "source": [
    "import re"
   ]
  },
  {
   "cell_type": "code",
   "execution_count": 20,
   "metadata": {
    "collapsed": false
   },
   "outputs": [
    {
     "data": {
      "text/plain": [
       "('2', '2', '1', '4', '5')"
      ]
     },
     "execution_count": 20,
     "metadata": {},
     "output_type": "execute_result"
    }
   ],
   "source": [
    "s=\"户型：2室 2厅 1卫 楼层：4 /5\"\n",
    "r=r\".*户型：(\\d+)室\\s+(\\d+)厅\\s+(\\d+)卫\\s+楼层：(\\d+)\\s\\/(\\d+)\"\n",
    "m=re.match(r,s)\n",
    "m.group(1),m.group(2),m.group(3),m.group(4),m.group(5)"
   ]
  },
  {
   "cell_type": "code",
   "execution_count": 21,
   "metadata": {
    "collapsed": false
   },
   "outputs": [
    {
     "data": {
      "text/plain": [
       "3    12196\n",
       "2     5691\n",
       "4     1248\n",
       "1      566\n",
       "5      340\n",
       "6       80\n",
       "0       15\n",
       "8       13\n",
       "7        7\n",
       "9        4\n",
       "Name: 室, dtype: int64"
      ]
     },
     "execution_count": 21,
     "metadata": {},
     "output_type": "execute_result"
    }
   ],
   "source": [
    "new_df[\"室\"]=df['my_column_5'].map(lambda x: re.match(r\".*(\\d+)室\",str(x)).group(1) if re.match(r\".*户型：(\\d+)室\",str(x)) else np.nan)\n",
    "new_df[\"室\"].value_counts()"
   ]
  },
  {
   "cell_type": "code",
   "execution_count": 22,
   "metadata": {
    "collapsed": false
   },
   "outputs": [
    {
     "data": {
      "text/plain": [
       "2    17160\n",
       "1     2293\n",
       "3      538\n",
       "0       88\n",
       "4       61\n",
       "5       11\n",
       "6        7\n",
       "7        2\n",
       "Name: 厅, dtype: int64"
      ]
     },
     "execution_count": 22,
     "metadata": {},
     "output_type": "execute_result"
    }
   ],
   "source": [
    "new_df[\"厅\"]=df['my_column_5'].map(lambda x: re.match(r\".*(\\d+)厅\",str(x)).group(1) if re.match(r\".*(\\d+)厅\",str(x)) else np.nan)\n",
    "new_df[\"厅\"].value_counts()"
   ]
  },
  {
   "cell_type": "code",
   "execution_count": 23,
   "metadata": {
    "collapsed": false
   },
   "outputs": [
    {
     "data": {
      "text/plain": [
       "1    15815\n",
       "2     3833\n",
       "3      262\n",
       "0      210\n",
       "4       28\n",
       "7        5\n",
       "5        4\n",
       "6        3\n",
       "Name: 卫, dtype: int64"
      ]
     },
     "execution_count": 23,
     "metadata": {},
     "output_type": "execute_result"
    }
   ],
   "source": [
    "new_df[\"卫\"]=df['my_column_5'].map(lambda x: re.match(r\".*(\\d+)卫\",str(x)).group(1) if re.match(r\".*(\\d+)卫\",str(x)) else np.nan)\n",
    "new_df[\"卫\"].value_counts()"
   ]
  },
  {
   "cell_type": "code",
   "execution_count": 24,
   "metadata": {
    "collapsed": false
   },
   "outputs": [
    {
     "data": {
      "text/plain": [
       "3      2492\n",
       "5      2483\n",
       "6      2477\n",
       "1      2297\n",
       "2      2292\n",
       "4      2283\n",
       "7      1088\n",
       "9       825\n",
       "10      755\n",
       "8       551\n",
       "11      545\n",
       "14      315\n",
       "16      289\n",
       "15      284\n",
       "12      253\n",
       "13      225\n",
       "17      210\n",
       "18       92\n",
       "20       67\n",
       "19       64\n",
       "21       62\n",
       "25       52\n",
       "22       34\n",
       "24       31\n",
       "23       27\n",
       "26       18\n",
       "28        9\n",
       "29        9\n",
       "27        7\n",
       "32        6\n",
       "30        3\n",
       "33        2\n",
       "0         2\n",
       "301       1\n",
       "31        1\n",
       "340       1\n",
       "35        1\n",
       "34        1\n",
       "Name: 楼层, dtype: int64"
      ]
     },
     "execution_count": 24,
     "metadata": {},
     "output_type": "execute_result"
    }
   ],
   "source": [
    "new_df[\"楼层\"]=df['my_column_5'].map(lambda x: re.match(r\".*楼层：(\\d+)\",str(x)).group(1) if re.match(r\".*楼层：(\\d+)\",str(x)) else np.nan)\n",
    "new_df[\"楼层\"].value_counts()"
   ]
  },
  {
   "cell_type": "code",
   "execution_count": 25,
   "metadata": {
    "collapsed": false
   },
   "outputs": [
    {
     "data": {
      "text/plain": [
       "6      7565\n",
       "7      3360\n",
       "11     2618\n",
       "17     1577\n",
       "18     1028\n",
       "5       573\n",
       "12      469\n",
       "16      384\n",
       "15      303\n",
       "21      251\n",
       "4       249\n",
       "23      164\n",
       "24      158\n",
       "3       132\n",
       "22      129\n",
       "19      124\n",
       "9       114\n",
       "1       109\n",
       "33      103\n",
       "13      101\n",
       "2        90\n",
       "20       75\n",
       "30       66\n",
       "10       63\n",
       "28       53\n",
       "26       50\n",
       "32       46\n",
       "14       41\n",
       "25       40\n",
       "34       26\n",
       "29       23\n",
       "27       18\n",
       "31       16\n",
       "8        16\n",
       "35        9\n",
       "63        3\n",
       "0         2\n",
       "40        1\n",
       "199       1\n",
       "120       1\n",
       "41        1\n",
       "73        1\n",
       "118       1\n",
       "Name: 总楼层, dtype: int64"
      ]
     },
     "execution_count": 25,
     "metadata": {},
     "output_type": "execute_result"
    }
   ],
   "source": [
    "new_df[\"总楼层\"]=df['my_column_5'].map(lambda x: re.match(r\".*楼层：\\d+\\s+/(\\d+)\",str(x)).group(1) if re.match(r\".*楼层：\\d+\\s+/(\\d+)\",str(x)) else np.nan)\n",
    "new_df[\"总楼层\"].value_counts()"
   ]
  },
  {
   "cell_type": "code",
   "execution_count": 26,
   "metadata": {
    "collapsed": false
   },
   "outputs": [
    {
     "data": {
      "text/html": [
       "<div>\n",
       "<table border=\"1\" class=\"dataframe\">\n",
       "  <thead>\n",
       "    <tr style=\"text-align: right;\">\n",
       "      <th></th>\n",
       "      <th>区县</th>\n",
       "      <th>小区</th>\n",
       "      <th>类型</th>\n",
       "      <th>建造年代</th>\n",
       "      <th>装修</th>\n",
       "      <th>朝向</th>\n",
       "      <th>发布时间</th>\n",
       "      <th>价格</th>\n",
       "      <th>面积</th>\n",
       "      <th>车库</th>\n",
       "      <th>储藏室</th>\n",
       "      <th>室</th>\n",
       "      <th>厅</th>\n",
       "      <th>卫</th>\n",
       "      <th>楼层</th>\n",
       "      <th>总楼层</th>\n",
       "    </tr>\n",
       "  </thead>\n",
       "  <tbody>\n",
       "    <tr>\n",
       "      <th>0</th>\n",
       "      <td>张店区</td>\n",
       "      <td>惠泽苑</td>\n",
       "      <td>住宅</td>\n",
       "      <td>2010</td>\n",
       "      <td>毛坯</td>\n",
       "      <td>南北</td>\n",
       "      <td>2015-11-06</td>\n",
       "      <td>51.0</td>\n",
       "      <td>120</td>\n",
       "      <td>15</td>\n",
       "      <td>NaN</td>\n",
       "      <td>2</td>\n",
       "      <td>2</td>\n",
       "      <td>1</td>\n",
       "      <td>4</td>\n",
       "      <td>5</td>\n",
       "    </tr>\n",
       "    <tr>\n",
       "      <th>1</th>\n",
       "      <td>张店区</td>\n",
       "      <td>曹村创业园一号楼 曹三村 急需用钱超低价出售中介勿扰</td>\n",
       "      <td>住宅</td>\n",
       "      <td>2006</td>\n",
       "      <td>简装修</td>\n",
       "      <td>南</td>\n",
       "      <td>2015-05-22</td>\n",
       "      <td>14.5</td>\n",
       "      <td>73</td>\n",
       "      <td>NaN</td>\n",
       "      <td>6</td>\n",
       "      <td>2</td>\n",
       "      <td>1</td>\n",
       "      <td>1</td>\n",
       "      <td>4</td>\n",
       "      <td>6</td>\n",
       "    </tr>\n",
       "    <tr>\n",
       "      <th>2</th>\n",
       "      <td>张店区</td>\n",
       "      <td>南苑绿洲一区</td>\n",
       "      <td>住宅</td>\n",
       "      <td>2011</td>\n",
       "      <td>简装修</td>\n",
       "      <td>南</td>\n",
       "      <td>2013-09-18</td>\n",
       "      <td>32.0</td>\n",
       "      <td>82</td>\n",
       "      <td>NaN</td>\n",
       "      <td>10</td>\n",
       "      <td>2</td>\n",
       "      <td>1</td>\n",
       "      <td>1</td>\n",
       "      <td>2</td>\n",
       "      <td>6</td>\n",
       "    </tr>\n",
       "    <tr>\n",
       "      <th>3</th>\n",
       "      <td>张店区</td>\n",
       "      <td>阳光馨园</td>\n",
       "      <td>住宅</td>\n",
       "      <td>2009</td>\n",
       "      <td>中等装修</td>\n",
       "      <td>南</td>\n",
       "      <td>2015-10-23</td>\n",
       "      <td>51.0</td>\n",
       "      <td>75</td>\n",
       "      <td>25</td>\n",
       "      <td>NaN</td>\n",
       "      <td>3</td>\n",
       "      <td>1</td>\n",
       "      <td>1</td>\n",
       "      <td>1</td>\n",
       "      <td>6</td>\n",
       "    </tr>\n",
       "    <tr>\n",
       "      <th>4</th>\n",
       "      <td>张店区</td>\n",
       "      <td>张店齐悦国际，改合同（划片祥瑞苑小学、张店八中）</td>\n",
       "      <td>住宅</td>\n",
       "      <td>2015</td>\n",
       "      <td>毛坯</td>\n",
       "      <td>东</td>\n",
       "      <td>2016-01-06</td>\n",
       "      <td>98.0</td>\n",
       "      <td>140</td>\n",
       "      <td>18</td>\n",
       "      <td>20</td>\n",
       "      <td>3</td>\n",
       "      <td>2</td>\n",
       "      <td>1</td>\n",
       "      <td>18</td>\n",
       "      <td>22</td>\n",
       "    </tr>\n",
       "  </tbody>\n",
       "</table>\n",
       "</div>"
      ],
      "text/plain": [
       "    区县                          小区  类型  建造年代    装修  朝向       发布时间    价格   面积  \\\n",
       "0  张店区                         惠泽苑  住宅  2010    毛坯  南北 2015-11-06  51.0  120   \n",
       "1  张店区  曹村创业园一号楼 曹三村 急需用钱超低价出售中介勿扰  住宅  2006   简装修   南 2015-05-22  14.5   73   \n",
       "2  张店区                      南苑绿洲一区  住宅  2011   简装修   南 2013-09-18  32.0   82   \n",
       "3  张店区                        阳光馨园  住宅  2009  中等装修   南 2015-10-23  51.0   75   \n",
       "4  张店区    张店齐悦国际，改合同（划片祥瑞苑小学、张店八中）  住宅  2015    毛坯   东 2016-01-06  98.0  140   \n",
       "\n",
       "    车库  储藏室  室  厅  卫  楼层 总楼层  \n",
       "0   15  NaN  2  2  1   4   5  \n",
       "1  NaN    6  2  1  1   4   6  \n",
       "2  NaN   10  2  1  1   2   6  \n",
       "3   25  NaN  3  1  1   1   6  \n",
       "4   18   20  3  2  1  18  22  "
      ]
     },
     "execution_count": 26,
     "metadata": {},
     "output_type": "execute_result"
    }
   ],
   "source": [
    "new_df.head()"
   ]
  },
  {
   "cell_type": "code",
   "execution_count": 27,
   "metadata": {
    "collapsed": false
   },
   "outputs": [
    {
     "name": "stdout",
     "output_type": "stream",
     "text": [
      "<class 'pandas.core.frame.DataFrame'>\n",
      "Int64Index: 20161 entries, 0 to 20160\n",
      "Data columns (total 16 columns):\n",
      "区县      20160 non-null object\n",
      "小区      17869 non-null object\n",
      "类型      20160 non-null object\n",
      "建造年代    20160 non-null object\n",
      "装修      20160 non-null object\n",
      "朝向      20160 non-null object\n",
      "发布时间    20160 non-null datetime64[ns]\n",
      "价格      20103 non-null float64\n",
      "面积      20160 non-null object\n",
      "车库      830 non-null object\n",
      "储藏室     2520 non-null object\n",
      "室       20160 non-null object\n",
      "厅       20160 non-null object\n",
      "卫       20160 non-null object\n",
      "楼层      20154 non-null object\n",
      "总楼层     20154 non-null object\n",
      "dtypes: datetime64[ns](1), float64(1), object(14)\n",
      "memory usage: 2.6+ MB\n"
     ]
    }
   ],
   "source": [
    "new_df.info()"
   ]
  },
  {
   "cell_type": "code",
   "execution_count": 28,
   "metadata": {
    "collapsed": false
   },
   "outputs": [],
   "source": [
    "new_df[[\"建造年代\",\"面积\",\"车库\",\"储藏室\",\"室\",\"厅\",\"卫\",\"楼层\",\"总楼层\"]]=new_df[[\"建造年代\",\"面积\",\"车库\",\"储藏室\",\"室\",\"厅\",\"卫\",\"楼层\",\"总楼层\"]].astype(float)"
   ]
  },
  {
   "cell_type": "code",
   "execution_count": 29,
   "metadata": {
    "collapsed": true
   },
   "outputs": [],
   "source": [
    "new_df[[\"车库\",\"储藏室\",\"室\",\"厅\",\"卫\"]]=new_df[[\"车库\",\"储藏室\",\"室\",\"厅\",\"卫\"]].fillna(0)"
   ]
  },
  {
   "cell_type": "code",
   "execution_count": 30,
   "metadata": {
    "collapsed": false
   },
   "outputs": [],
   "source": [
    "new_df.to_excel(\"淄博信息港二手房信息20160110.xlsx\")"
   ]
  },
  {
   "cell_type": "code",
   "execution_count": null,
   "metadata": {
    "collapsed": true
   },
   "outputs": [],
   "source": []
  }
 ],
 "metadata": {
  "kernelspec": {
   "display_name": "Python 3",
   "language": "python",
   "name": "python3"
  },
  "language_info": {
   "codemirror_mode": {
    "name": "ipython",
    "version": 3
   },
   "file_extension": ".py",
   "mimetype": "text/x-python",
   "name": "python",
   "nbconvert_exporter": "python",
   "pygments_lexer": "ipython3",
   "version": "3.5.1"
  }
 },
 "nbformat": 4,
 "nbformat_minor": 0
}
